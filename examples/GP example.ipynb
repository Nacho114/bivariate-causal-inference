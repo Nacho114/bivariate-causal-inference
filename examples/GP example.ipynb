{
 "cells": [
  {
   "cell_type": "code",
   "execution_count": 1,
   "metadata": {},
   "outputs": [],
   "source": [
    "import numpy as np\n",
    "import matplotlib.pyplot as plt\n",
    "\n",
    "\n",
    "%load_ext autoreload\n",
    "%autoreload 2\n",
    "\n",
    "import synth_gen"
   ]
  },
  {
   "cell_type": "code",
   "execution_count": 2,
   "metadata": {},
   "outputs": [],
   "source": [
    "import sys\n",
    "sys.path.append(\"../twintest\")\n",
    "\n",
    "import causality as intest\n",
    "import viz"
   ]
  },
  {
   "cell_type": "code",
   "execution_count": 23,
   "metadata": {},
   "outputs": [],
   "source": [
    "f = lambda x: np.tanh(x) + 2*np.sin(2*x) + x**3"
   ]
  },
  {
   "cell_type": "code",
   "execution_count": 74,
   "metadata": {},
   "outputs": [],
   "source": [
    "target = 1 # By defaul X->Y\n",
    "nb_samples = 40\n",
    "\n",
    "Nx = {\n",
    "    'name': 'uniform',\n",
    "    'var': 10\n",
    "}\n",
    "\n",
    "Ny = {\n",
    "    'name': 'normal',\n",
    "    'var': 20\n",
    "    # 4.86 - 87 - 88\n",
    "}"
   ]
  },
  {
   "cell_type": "code",
   "execution_count": 75,
   "metadata": {},
   "outputs": [
    {
     "data": {
      "image/png": "[encoded data removed]",
      "text/plain": [
       "<Figure size 432x288 with 1 Axes>"
      ]
     },
     "metadata": {
      "needs_background": "light"
     },
     "output_type": "display_data"
    }
   ],
   "source": [
    "binary_am = synth_gen.BinaryAM(Nx, Ny, f, nb_samples)\n",
    "x = binary_am.x.reshape(-1, 1)\n",
    "y = binary_am.y\n",
    "viz.pretty_scatter(x, y)"
   ]
  },
  {
   "cell_type": "code",
   "execution_count": 76,
   "metadata": {},
   "outputs": [],
   "source": [
    "from sklearn.gaussian_process import GaussianProcessRegressor\n",
    "from sklearn.gaussian_process.kernels import RBF, ConstantKernel, WhiteKernel"
   ]
  },
  {
   "cell_type": "code",
   "execution_count": 77,
   "metadata": {},
   "outputs": [],
   "source": [
    "# Define kernel parameters. \n",
    "l = 0.001\n",
    "sigma_f = 2\n",
    "\n",
    "# Define kernel object. \n",
    "# kernel = ConstantKernel(constant_value=sigma_f, constant_value_bounds=(1e-2, 1e2)) \\\n",
    "#             * RBF(length_scale=l, length_scale_bounds=(1e-2, 1e2)) \\\n",
    "#             + WhiteKernel(noise_level=100, noise_level_bounds=(1e-10, 1e+1))\n",
    "kernel = RBF(length_scale=l, length_scale_bounds=(1e-2, 1e2)) \\\n",
    "            "
   ]
  },
  {
   "cell_type": "code",
   "execution_count": 92,
   "metadata": {},
   "outputs": [
    {
     "data": {
      "text/plain": [
       "GaussianProcessRegressor(alpha=0.2, copy_X_train=True,\n",
       "                         kernel=RBF(length_scale=0.001),\n",
       "                         n_restarts_optimizer=10, normalize_y=False,\n",
       "                         optimizer='fmin_l_bfgs_b', random_state=None)"
      ]
     },
     "execution_count": 92,
     "metadata": {},
     "output_type": "execute_result"
    }
   ],
   "source": [
    "clf = GaussianProcessRegressor(kernel=kernel, n_restarts_optimizer=10, alpha=0.2)\n",
    "clf.fit(x, y)"
   ]
  },
  {
   "cell_type": "code",
   "execution_count": 95,
   "metadata": {},
   "outputs": [
    {
     "data": {
      "image/png": "[encoded data removed]",
      "text/plain": [
       "<Figure size 432x288 with 1 Axes>"
      ]
     },
     "metadata": {
      "needs_background": "light"
     },
     "output_type": "display_data"
    }
   ],
   "source": [
    "x_linspace = np.atleast_2d(np.linspace(-5.4, 5.4, 1000)).T\n",
    "y_pred = clf.predict(x_linspace)\n",
    "\n",
    "plt.plot(x_linspace, y_pred, c=viz.color_map(1, 1.6))\n",
    "# plt.plot(x_linspace, f(x_linspace), c='g')\n",
    "plt.scatter(x, y, alpha=.8)\n",
    "plt.axis('off')\n",
    "plt.savefig('gp_overfit')"
   ]
  },
  {
   "cell_type": "code",
   "execution_count": null,
   "metadata": {},
   "outputs": [],
   "source": []
  },
  {
   "cell_type": "code",
   "execution_count": null,
   "metadata": {},
   "outputs": [],
   "source": []
  },
  {
   "cell_type": "code",
   "execution_count": null,
   "metadata": {},
   "outputs": [],
   "source": []
  }
 ],
 "metadata": {
  "kernelspec": {
   "display_name": "Python 3.8.2 64-bit ('ml': conda)",
   "language": "python",
   "name": "python38264bitmlcondae0dc3c28afe54ad181565a47425f2f7f"
  },
  "language_info": {
   "codemirror_mode": {
    "name": "ipython",
    "version": 3
   },
   "file_extension": ".py",
   "mimetype": "text/x-python",
   "name": "python",
   "nbconvert_exporter": "python",
   "pygments_lexer": "ipython3",
   "version": "3.8.2"
  }
 },
 "nbformat": 4,
 "nbformat_minor": 4
}
