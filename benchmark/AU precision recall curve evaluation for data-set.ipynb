{
 "cells": [
  {
   "cell_type": "code",
   "execution_count": 1,
   "metadata": {
    "scrolled": true
   },
   "outputs": [],
   "source": [
    "import numpy as np\n",
    "import matplotlib.pyplot as plt\n",
    "\n",
    "\n",
    "%load_ext autoreload\n",
    "%autoreload 2\n",
    "\n",
    "import dataset "
   ]
  },
  {
   "cell_type": "code",
   "execution_count": 2,
   "metadata": {},
   "outputs": [],
   "source": [
    "import sys\n",
    "sys.path.append(\"../twintest\")"
   ]
  },
  {
   "cell_type": "code",
   "execution_count": 3,
   "metadata": {},
   "outputs": [],
   "source": [
    "import causality as intest\n",
    "import viz\n",
    "import benchmark"
   ]
  },
  {
   "cell_type": "code",
   "execution_count": 4,
   "metadata": {},
   "outputs": [],
   "source": [
    "# 'CE-Tueb', 'CE-Gauss', 'CE-Cha', 'CE-Multi', 'CE-Net'\n",
    "data = dataset.load_dataset('CE-Tueb')"
   ]
  },
  {
   "cell_type": "code",
   "execution_count": 5,
   "metadata": {},
   "outputs": [
    {
     "name": "stdout",
     "output_type": "stream",
     "text": [
      "Running: 0. pred: 1, actual 1\n",
      "Running: 1. pred: 0, actual 1\n",
      "Running: 2. pred: 0, actual 1\n",
      "Running: 3. pred: 0, actual 1\n",
      "Running: 4. pred: 1, actual 1\n",
      "Running: 5. pred: 1, actual 1\n",
      "Running: 6. pred: 1, actual 1\n",
      "Running: 7. pred: 1, actual 1\n",
      "Running: 8. pred: 1, actual 1\n",
      "Running: 9. pred: 0, actual 1\n",
      "Running: 10. pred: 1, actual 1\n",
      "Running: 11. pred: 1, actual 1\n",
      "Running: 12. pred: 0, actual 1\n",
      "Running: 13. pred: 0, actual 1\n",
      "Running: 14. pred: 0, actual 1\n",
      "Running: 15. pred: 1, actual 1\n",
      "Running: 16. pred: 0, actual 1\n",
      "Running: 17. pred: 1, actual 1\n",
      "Running: 18. pred: 1, actual 1\n",
      "Running: 19. pred: 1, actual 1\n",
      "Running: 20. pred: 0, actual 1\n",
      "Running: 21. pred: 1, actual 1\n",
      "Running: 22. pred: 1, actual 1\n",
      "Running: 23. pred: 1, actual 1\n",
      "Running: 24. pred: 1, actual 1\n",
      "Running: 25. pred: 1, actual 1\n",
      "Running: 26. pred: 1, actual 1\n",
      "Running: 27. pred: 1, actual 1\n",
      "Running: 28. pred: 1, actual 1\n",
      "Running: 29. pred: 1, actual 1\n",
      "Running: 30. pred: 1, actual 1\n",
      "Running: 31. pred: 1, actual 1\n",
      "Running: 32. pred: 1, actual 1\n",
      "Running: 33. pred: 1, actual 1\n",
      "Running: 34. pred: 1, actual 1\n",
      "Running: 35. pred: 0, actual 1\n",
      "Running: 36. pred: 0, actual 1\n",
      "Running: 37. pred: 1, actual 1\n",
      "Running: 38. pred: 1, actual 1\n",
      "Running: 39. pred: 1, actual 1\n",
      "Running: 40. pred: 0, actual 1\n",
      "Running: 41. pred: 1, actual 1\n",
      "Running: 42. pred: 0, actual 1\n",
      "Running: 43. pred: 0, actual 1\n",
      "Running: 44. pred: 1, actual 1\n",
      "Running: 45. pred: 1, actual 1\n"
     ]
    },
    {
     "name": "stderr",
     "output_type": "stream",
     "text": [
      "../twintest/causality.py:28: ConvergenceWarning: Number of distinct clusters (2) found smaller than n_clusters (3). Possibly due to duplicate points in X.\n",
      "  kmeans = KMeans(n_clusters=n_c, random_state=0).fit(x.reshape(-1, 1))\n"
     ]
    },
    {
     "name": "stdout",
     "output_type": "stream",
     "text": [
      "Running: 46. pred: 0, actual 0\n",
      "Running: 47. pred: 0, actual 0\n",
      "Running: 48. pred: 0, actual 0\n",
      "Running: 49. pred: 0, actual 0\n",
      "Running: 50. pred: 0, actual 0\n",
      "Running: 51. pred: 1, actual 0\n",
      "Running: 52. pred: 1, actual 0\n",
      "Running: 53. pred: 1, actual 0\n",
      "Running: 54. pred: 1, actual 0\n",
      "Running: 55. pred: 1, actual 0\n",
      "Running: 56. pred: 1, actual 0\n",
      "Running: 57. pred: 1, actual 0\n",
      "Running: 58. pred: 1, actual 0\n",
      "Running: 59. pred: 1, actual 1\n",
      "Running: 60. pred: 0, actual 1\n",
      "Running: 61. pred: 0, actual 1\n",
      "Running: 62. pred: 1, actual 1\n",
      "Running: 63. pred: 1, actual 0\n",
      "Running: 64. pred: 1, actual 0\n"
     ]
    },
    {
     "name": "stderr",
     "output_type": "stream",
     "text": [
      "../twintest/causality.py:28: ConvergenceWarning: Number of distinct clusters (2) found smaller than n_clusters (3). Possibly due to duplicate points in X.\n",
      "  kmeans = KMeans(n_clusters=n_c, random_state=0).fit(x.reshape(-1, 1))\n"
     ]
    },
    {
     "name": "stdout",
     "output_type": "stream",
     "text": [
      "Running: 65. pred: 0, actual 1\n",
      "Running: 66. pred: 1, actual 1\n",
      "Running: 67. pred: 0, actual 0\n",
      "Running: 68. pred: 0, actual 1\n",
      "Running: 69. pred: 1, actual 0\n",
      "Running: 70. pred: 1, actual 1\n",
      "Running: 71. pred: 0, actual 0\n",
      "Running: 72. pred: 1, actual 1\n",
      "Running: 73. pred: 0, actual 0\n",
      "Running: 74. pred: 0, actual 0\n",
      "Running: 75. pred: 1, actual 1\n",
      "Running: 76. pred: 0, actual 1\n",
      "Running: 77. pred: 0, actual 1\n",
      "Running: 78. pred: 0, actual 0\n",
      "Running: 79. pred: 1, actual 1\n",
      "Running: 80. pred: 1, actual 1\n",
      "Running: 81. pred: 0, actual 1\n",
      "Running: 82. pred: 0, actual 1\n",
      "Running: 83. pred: 0, actual 0\n",
      "Running: 84. pred: 0, actual 0\n",
      "Running: 85. pred: 0, actual 1\n",
      "Running: 86. pred: 1, actual 0\n",
      "Running: 87. pred: 0, actual 1\n",
      "Running: 88. pred: 1, actual 1\n",
      "Running: 89. pred: 1, actual 1\n",
      "Running: 90. pred: 1, actual 1\n",
      "Running: 91. pred: 0, actual 1\n",
      "Running: 92. pred: 0, actual 1\n",
      "Running: 93. pred: 0, actual 0\n",
      "Running: 94. pred: 1, actual 1\n",
      "Running: 95. pred: 1, actual 1\n",
      "Running: 96. pred: 0, actual 1\n",
      "Running: 97. pred: 1, actual 1\n",
      "Running: 98. pred: 1, actual 1\n",
      "Running: 99. pred: 1, actual 0\n",
      "Running: 100. pred: 0, actual 1\n",
      "Running: 101. pred: 0, actual 0\n",
      "\n",
      "acc: 0.624\n"
     ]
    }
   ],
   "source": [
    "score_info = benchmark.get_benchmark_perf(data)"
   ]
  },
  {
   "cell_type": "code",
   "execution_count": 6,
   "metadata": {},
   "outputs": [],
   "source": [
    "y_true = []\n",
    "y_score = []\n",
    "sample_weight = []\n",
    "\n",
    "for info in score_info:\n",
    "    score = -info['score'] + info['score_reverse']\n",
    "    y_score.append(score)\n",
    "    y_true.append(info['target'])\n",
    "    sample_weight.append(info['weight'])"
   ]
  },
  {
   "cell_type": "code",
   "execution_count": 7,
   "metadata": {},
   "outputs": [
    {
     "data": {
      "text/plain": [
       "{'score': 0.6148715415019763,\n",
       " 'score_reverse': 0.2689892167318403,\n",
       " 'weight': 0.166,\n",
       " 'target': 1,\n",
       " 'idx': 1}"
      ]
     },
     "execution_count": 7,
     "metadata": {},
     "output_type": "execute_result"
    }
   ],
   "source": [
    "score_info[1]"
   ]
  },
  {
   "cell_type": "code",
   "execution_count": 8,
   "metadata": {},
   "outputs": [],
   "source": [
    "from sklearn.metrics import precision_recall_curve, auc"
   ]
  },
  {
   "cell_type": "markdown",
   "metadata": {},
   "source": [
    "Compute recall score"
   ]
  },
  {
   "cell_type": "code",
   "execution_count": 9,
   "metadata": {},
   "outputs": [],
   "source": [
    "precision, recall, _ = precision_recall_curve(y_true=y_true, probas_pred=y_score, sample_weight=sample_weight)\n",
    "auc_score = auc(recall, precision)"
   ]
  },
  {
   "cell_type": "code",
   "execution_count": 10,
   "metadata": {},
   "outputs": [
    {
     "data": {
      "text/plain": [
       "Text(0, 0.5, 'precision')"
      ]
     },
     "execution_count": 10,
     "metadata": {},
     "output_type": "execute_result"
    },
    {
     "data": {
      "image/png": "[encoded data removed]",
      "text/plain": [
       "<Figure size 432x288 with 1 Axes>"
      ]
     },
     "metadata": {
      "needs_background": "light"
     },
     "output_type": "display_data"
    }
   ],
   "source": [
    "nb_direct = data.total_direct_cause()\n",
    "nb_samples = len(data)\n",
    "no_skill = nb_direct / nb_samples\n",
    "plt.plot([0, 1], [no_skill, no_skill], linestyle='--', label='No Skill')\n",
    "plt.plot(recall, precision, marker='.', label='Logistic')\n",
    "plt.xlabel('recall')\n",
    "plt.ylabel('precision')"
   ]
  },
  {
   "cell_type": "markdown",
   "metadata": {},
   "source": [
    "Compute unweighted recall score"
   ]
  },
  {
   "cell_type": "code",
   "execution_count": 11,
   "metadata": {},
   "outputs": [],
   "source": [
    "precision_uw, recall_uw, _ = precision_recall_curve(y_true=y_true, probas_pred=y_score)\n",
    "auc_score_uw = auc(recall_uw, precision_uw)"
   ]
  },
  {
   "cell_type": "code",
   "execution_count": 12,
   "metadata": {},
   "outputs": [
    {
     "name": "stdout",
     "output_type": "stream",
     "text": [
      "AUPR: \t\t  0.820\n",
      "Unweighted AUPR:  0.770\n"
     ]
    }
   ],
   "source": [
    "print('AUPR: \\t\\t  {:0.3f}'.format(auc_score)) \n",
    "print('Unweighted AUPR:  {:.3f}'.format(auc_score_uw))"
   ]
  },
  {
   "cell_type": "code",
   "execution_count": 13,
   "metadata": {},
   "outputs": [],
   "source": [
    "from sklearn.metrics import roc_curve, roc_auc_score"
   ]
  },
  {
   "cell_type": "code",
   "execution_count": 14,
   "metadata": {},
   "outputs": [],
   "source": [
    "fpr, tpr, _ = roc_curve(y_true=y_true, y_score=y_score, sample_weight=sample_weight)"
   ]
  },
  {
   "cell_type": "code",
   "execution_count": 15,
   "metadata": {},
   "outputs": [
    {
     "data": {
      "text/plain": [
       "Text(0, 0.5, 'True Positive Rate')"
      ]
     },
     "execution_count": 15,
     "metadata": {},
     "output_type": "execute_result"
    },
    {
     "data": {
      "image/png": "[encoded data removed]",
      "text/plain": [
       "<Figure size 432x288 with 1 Axes>"
      ]
     },
     "metadata": {
      "needs_background": "light"
     },
     "output_type": "display_data"
    }
   ],
   "source": [
    "plt.plot([0, 1], [0, 1], linestyle='--', label='No Skill')\n",
    "plt.plot(fpr, tpr, marker='.', label='Logistic')\n",
    "plt.xlabel('False Positive Rate')\n",
    "plt.ylabel('True Positive Rate')"
   ]
  },
  {
   "cell_type": "code",
   "execution_count": 16,
   "metadata": {},
   "outputs": [
    {
     "name": "stderr",
     "output_type": "stream",
     "text": [
      "No GPU automatically detected. Setting SETTINGS.GPU to 0, and SETTINGS.NJOBS to cpu_count.\n"
     ]
    }
   ],
   "source": [
    "from cdt.metrics import precision_recall"
   ]
  },
  {
   "cell_type": "code",
   "execution_count": 22,
   "metadata": {},
   "outputs": [
    {
     "data": {
      "text/plain": [
       "0.7698087121906589"
      ]
     },
     "execution_count": 22,
     "metadata": {},
     "output_type": "execute_result"
    }
   ],
   "source": [
    "aupr, curve = precision_recall(np.asarray(y_true), np.asarray(y_score))\n",
    "aupr"
   ]
  },
  {
   "cell_type": "code",
   "execution_count": 26,
   "metadata": {},
   "outputs": [
    {
     "data": {
      "text/plain": [
       "Text(0, 0.5, 'precision')"
      ]
     },
     "execution_count": 26,
     "metadata": {},
     "output_type": "execute_result"
    },
    {
     "data": {
      "image/png": "[encoded data removed]",
      "text/plain": [
       "<Figure size 432x288 with 1 Axes>"
      ]
     },
     "metadata": {
      "needs_background": "light"
     },
     "output_type": "display_data"
    }
   ],
   "source": [
    "nb_direct = data.total_direct_cause()\n",
    "nb_samples = len(data)\n",
    "no_skill = nb_direct / nb_samples\n",
    "plt.plot(curve[1], curve[0], marker='.', label='Logistic')\n",
    "plt.xlabel('recall')\n",
    "plt.ylabel('precision')"
   ]
  },
  {
   "cell_type": "code",
   "execution_count": null,
   "metadata": {},
   "outputs": [],
   "source": []
  }
 ],
 "metadata": {
  "kernelspec": {
   "display_name": "Python (ml_clone)",
   "language": "python",
   "name": "ml_clone"
  },
  "language_info": {
   "codemirror_mode": {
    "name": "ipython",
    "version": 3
   },
   "file_extension": ".py",
   "mimetype": "text/x-python",
   "name": "python",
   "nbconvert_exporter": "python",
   "pygments_lexer": "ipython3",
   "version": "3.8.2"
  }
 },
 "nbformat": 4,
 "nbformat_minor": 4
}
